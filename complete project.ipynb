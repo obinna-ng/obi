{
 "cells": [
  {
   "cell_type": "code",
   "execution_count": null,
   "metadata": {},
   "outputs": [],
   "source": [
    "import numpy as np\n",
    "import pandas as pd\n",
    "import matplotlib as plt\n",
    "import seaborn as sns"
   ]
  },
  {
   "cell_type": "code",
   "execution_count": null,
   "metadata": {},
   "outputs": [],
   "source": [
    "loan =pd.read_csv(\"train_ctrUa4K.csv\")"
   ]
  },
  {
   "cell_type": "code",
   "execution_count": null,
   "metadata": {},
   "outputs": [],
   "source": [
    "#WE CLEAN UP THE DATASET CHANGING THE LOAN STATUS COLUMN FROM Y AND N TO APPROVED AND DECLINED\n",
    "loan['Loan_Status'] = loan['Loan_Status'].replace(['Y'],'Approved')"
   ]
  },
  {
   "cell_type": "code",
   "execution_count": null,
   "metadata": {},
   "outputs": [],
   "source": [
    "loan['Loan_Status'] = loan['Loan_Status'].replace(['N'],'Declined')"
   ]
  },
  {
   "cell_type": "code",
   "execution_count": null,
   "metadata": {},
   "outputs": [],
   "source": [
    "loan"
   ]
  },
  {
   "cell_type": "code",
   "execution_count": null,
   "metadata": {},
   "outputs": [],
   "source": [
    "loan['LoanAmount'].max()"
   ]
  },
  {
   "cell_type": "code",
   "execution_count": null,
   "metadata": {},
   "outputs": [],
   "source": [
    "class newapplication():\n",
    "    def __init__(new):\n",
    "        new.name = input('\\n What is your name:===>').title()\n",
    "        new.Gender = input('\\n Are you Male or Female:===>').title()\n",
    "\n",
    "#THE TRY IS HERE IN CASE THE USER INPUTS A NONE INTEGER\n",
    "        try:\n",
    "            new.Loanammount = int(input('\\n The maximum amount we loan out is 700, if you input anything higher than that your loan will be Declined \\n How Much Loan Do you need?:===>'))\n",
    "            pass\n",
    "        except ValueError as e:\n",
    "            new.Loanammount = int(input('\\n PLEASE ONLY INTEGERS ALLOWED, ANSWER THE QUESTION AGAIN\\n How Much Loan Do you need?:===>'))\n",
    "            pass\n",
    "        \n",
    "        new.SelfEmployed = input('\\n Are you Self Employed ? YES OR NO:===>').title()\n",
    "        new.Married = input('\\n Are you married ? YES OR NO:===>').title()\n",
    "        new.Education = input('\\n WHAT IS YOUR EDUCATIONAL QUALIFICATION ? Graduate OR Not Graduate:===>').title()\n",
    "\n",
    "        try:\n",
    "            new.Dependents = int(input('\\n Number of dependents:===>'))\n",
    "            pass\n",
    "        except ValueError as e:\n",
    "            new.Dependents = int(input('\\n PLEASE ONLY INTEGERS ALLOWED, ANSWER THE QUESTION AGAIN\\n Number of dependents:===>'))\n",
    "            pass\n",
    "        \n",
    "        try:\n",
    "            new.ApplicantIncome = int(input('\\n WHAT IS YOUR MONTHLY INCOME:===>'))\n",
    "            pass\n",
    "        except ValueError as e:\n",
    "            new.ApplicantIncome = int(input('\\n PLEASE ONLY INTEGERS ALLOWED, ANSWER THE QUESTION AGAIN\\n WHAT IS YOUR MONTHLY INCOME:===>'))\n",
    "            pass\n",
    "        \n",
    "        try:\n",
    "            new.CoapplicantIncome = int(input('\\n DO YOU HAVE A CO-APPLICANT?,IF YES, INPUT HIS OR HER MONTHLY INCOME (IF NONE INPUT O):===>'))\n",
    "            pass\n",
    "        except ValueError as e:\n",
    "            new.CoapplicantIncome = int(input('\\n PLEASE ONLY INTEGERS ALLOWED, ANSWER THE QUESTION AGAIN\\n DO YOU HAVE A CO-APPLICANT?,IF YES, INPUT HIS OR HER MONTHLY INCOME (IF NONE INPUT O):===>'))\n",
    "            pass\n",
    "        \n",
    "        new.totalincome = new.ApplicantIncome + new.CoapplicantIncome\n",
    "        new.Colloteral = 'Urban','Semiurban'\n",
    "        \n",
    "        try:\n",
    "            new.Credit_History = float(input('\\n How many loans have you taken in the past? \\n:===>'))\n",
    "            pass\n",
    "        except ValueError as e:\n",
    "            new.Credit_History = float(input('\\n PLEASE ONLY INTEGERS ALLOWED, ANSWER THE QUESTION AGAIN\\n How many loans have you taken in the past? \\n:===>'))\n",
    "            pass\n",
    "        \n",
    "        new.PropertyA = input('\\n What Are Is your Colloteral Located? \\n Urban, Semiurban, Rural \\n:===>').title()\n",
    "        \n",
    "#THIS CONDITION WORKS FOR APPLICANTS WITH LESS PEOPLE WHO DEPEND ON THEM, COLLATERAL IN AN URBAN OR SEMIURBAN AREA AND ALSO GOOD CREDIT HISTTORY\n",
    "        if (new.Dependents < 3) and (new.totalincome > 2000) and (new.Credit_History > 0.0)and (new.PropertyA in new.Colloteral) and (new.Loanammount < 700):\n",
    "            loanstatus = 'Approved'\n",
    "            new.LoanTermAmmount = int(360)\n",
    "            print(f'\\n  {loanstatus}')\n",
    "        \n",
    "        \n",
    "#THE LINE OF CODE BELOW WORKS WHEN AN APPLICANT WITH A COLLATERAL IN A RUAL AREA HAS A HIGH INCOME\n",
    "        elif (new.Dependents < 3) and (new.totalincome > 4000) and (new.Credit_History > 0.0)and (new.PropertyA in 'Rural') and (new.Loanammount < 700):\n",
    "            loanstatus = 'Approved'\n",
    "            new.LoanTermAmmount = int(360)\n",
    "            print(f'\\n  {loanstatus}')\n",
    "\n",
    "\n",
    "#THIS CODE WORKS WHEN THIS CONDITION ARE NOT FULFILLED        \n",
    "        else:\n",
    "            loanstatus = 'Declined'\n",
    "            new.LoanTermAmmount = int(360)\n",
    "            print(f'\\n {loanstatus}')\n",
    "        global newloan \n",
    "        newloan = pd.DataFrame({'Loan_ID':[new.name],'Gender':[new.Gender],'Married':[new.Married],\n",
    "                        'Dependents':[new.Dependents],'Education':[new.Education],'Self_Employed':[new.SelfEmployed],'ApplicantIncome':[new.ApplicantIncome],\n",
    "                        'CoapplicantIncome':[new.CoapplicantIncome],'LoanAmount':[new.Loanammount],'Loan_Amount_Term':[new.LoanTermAmmount],\n",
    "                        'Credit_History':[new.Credit_History],'Property_Area':[new.PropertyA],'Loan_Status':[loanstatus]})\n",
    "#THE CODE ADDS THE NEW APPLICANT INFO INTO THE DATASET\n",
    "        global loan\n",
    "        loan = loan.append(newloan, ignore_index=True, sort=False)\n",
    "        return None"
   ]
  },
  {
   "cell_type": "markdown",
   "metadata": {},
   "source": [
    "###### THIS CODE ASK FOR USER INPUT\n",
    "newapplication()"
   ]
  },
  {
   "cell_type": "code",
   "execution_count": null,
   "metadata": {},
   "outputs": [],
   "source": [
    "# YOU CAN NOW VIEW YOUR DATASET, YOUR NEW APPLICANT DATA HAS BEEN ADDED\n",
    "loan"
   ]
  },
  {
   "cell_type": "code",
   "execution_count": null,
   "metadata": {},
   "outputs": [],
   "source": [
    "#JUST AN EXTRA CODE INCASE YOU WANT TO SEARCH FOR A NAME ON THE DATASET\n",
    "class ApplicantSearch():\n",
    "    def __init__(self):\n",
    "        self.search = input('\\n Enter the name you want to search:\\n').title()\n",
    "        Res = loan[loan['Loan_ID'].str.contains(self.search)]\n",
    "        print(Res)"
   ]
  },
  {
   "cell_type": "code",
   "execution_count": null,
   "metadata": {},
   "outputs": [],
   "source": [
    "#CODE THAT ASKS YOU FOR A NAME YOU WANT TO SEARCH FOR\n",
    "ApplicantSearch()"
   ]
  },
  {
   "cell_type": "code",
   "execution_count": null,
   "metadata": {},
   "outputs": [],
   "source": [
    "#DELETE THE LAST INDEX, I.E THE LAST DATA YOU JUST ADDED BUT IF YOU ADDED MORE THAN ONE APPLICANT YOU HAVE TO SEARH\n",
    "#THE APPLICANT NAME, CHECK HIS INDEX AND PUT HIS INDEX INBETWEEN THE[]\n",
    "loan = loan.drop([614], axis=0)"
   ]
  },
  {
   "cell_type": "code",
   "execution_count": null,
   "metadata": {},
   "outputs": [],
   "source": [
    "loan"
   ]
  },
  {
   "cell_type": "code",
   "execution_count": null,
   "metadata": {},
   "outputs": [],
   "source": []
  }
 ],
 "metadata": {
  "kernelspec": {
   "display_name": "Python 3",
   "language": "python",
   "name": "python3"
  },
  "language_info": {
   "codemirror_mode": {
    "name": "ipython",
    "version": 3
   },
   "file_extension": ".py",
   "mimetype": "text/x-python",
   "name": "python",
   "nbconvert_exporter": "python",
   "pygments_lexer": "ipython3",
   "version": "3.7.3"
  }
 },
 "nbformat": 4,
 "nbformat_minor": 2
}
